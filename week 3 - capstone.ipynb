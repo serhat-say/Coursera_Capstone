{
 "cells": [
  {
   "cell_type": "markdown",
   "metadata": {},
   "source": [
    "# Import Libraries"
   ]
  },
  {
   "cell_type": "code",
   "execution_count": 7,
   "metadata": {},
   "outputs": [
    {
     "name": "stdout",
     "output_type": "stream",
     "text": [
      "Collecting folium\n",
      "  Downloading https://files.pythonhosted.org/packages/fd/a0/ccb3094026649cda4acd55bf2c3822bb8c277eb11446d13d384e5be35257/folium-0.10.1-py2.py3-none-any.whl (91kB)\n",
      "Collecting branca>=0.3.0 (from folium)\n",
      "  Downloading https://files.pythonhosted.org/packages/63/36/1c93318e9653f4e414a2e0c3b98fc898b4970e939afeedeee6075dd3b703/branca-0.3.1-py3-none-any.whl\n",
      "Requirement already satisfied: numpy in c:\\users\\103305\\appdata\\local\\continuum\\anaconda3\\lib\\site-packages (from folium) (1.16.2)\n",
      "Requirement already satisfied: jinja2>=2.9 in c:\\users\\103305\\appdata\\local\\continuum\\anaconda3\\lib\\site-packages (from folium) (2.10)\n",
      "Requirement already satisfied: requests in c:\\users\\103305\\appdata\\local\\continuum\\anaconda3\\lib\\site-packages (from folium) (2.21.0)\n",
      "Requirement already satisfied: six in c:\\users\\103305\\appdata\\local\\continuum\\anaconda3\\lib\\site-packages (from branca>=0.3.0->folium) (1.12.0)\n",
      "Requirement already satisfied: MarkupSafe>=0.23 in c:\\users\\103305\\appdata\\local\\continuum\\anaconda3\\lib\\site-packages (from jinja2>=2.9->folium) (1.1.1)\n",
      "Requirement already satisfied: certifi>=2017.4.17 in c:\\users\\103305\\appdata\\local\\continuum\\anaconda3\\lib\\site-packages (from requests->folium) (2019.3.9)\n",
      "Requirement already satisfied: idna<2.9,>=2.5 in c:\\users\\103305\\appdata\\local\\continuum\\anaconda3\\lib\\site-packages (from requests->folium) (2.8)\n",
      "Requirement already satisfied: urllib3<1.25,>=1.21.1 in c:\\users\\103305\\appdata\\local\\continuum\\anaconda3\\lib\\site-packages (from requests->folium) (1.24.1)\n",
      "Requirement already satisfied: chardet<3.1.0,>=3.0.2 in c:\\users\\103305\\appdata\\local\\continuum\\anaconda3\\lib\\site-packages (from requests->folium) (3.0.4)\n",
      "Installing collected packages: branca, folium\n",
      "Successfully installed branca-0.3.1 folium-0.10.1\n",
      "Collecting geocoder\n",
      "  Downloading https://files.pythonhosted.org/packages/4f/6b/13166c909ad2f2d76b929a4227c952630ebaf0d729f6317eb09cbceccbab/geocoder-1.38.1-py2.py3-none-any.whl (98kB)\n",
      "Requirement already satisfied: requests in c:\\users\\103305\\appdata\\local\\continuum\\anaconda3\\lib\\site-packages (from geocoder) (2.21.0)\n",
      "Requirement already satisfied: click in c:\\users\\103305\\appdata\\local\\continuum\\anaconda3\\lib\\site-packages (from geocoder) (7.0)\n",
      "Requirement already satisfied: six in c:\\users\\103305\\appdata\\local\\continuum\\anaconda3\\lib\\site-packages (from geocoder) (1.12.0)\n",
      "Requirement already satisfied: future in c:\\users\\103305\\appdata\\local\\continuum\\anaconda3\\lib\\site-packages (from geocoder) (0.17.1)\n",
      "Collecting ratelim (from geocoder)\n",
      "  Downloading https://files.pythonhosted.org/packages/f2/98/7e6d147fd16a10a5f821db6e25f192265d6ecca3d82957a4fdd592cad49c/ratelim-0.1.6-py2.py3-none-any.whl\n",
      "Requirement already satisfied: chardet<3.1.0,>=3.0.2 in c:\\users\\103305\\appdata\\local\\continuum\\anaconda3\\lib\\site-packages (from requests->geocoder) (3.0.4)\n",
      "Requirement already satisfied: certifi>=2017.4.17 in c:\\users\\103305\\appdata\\local\\continuum\\anaconda3\\lib\\site-packages (from requests->geocoder) (2019.3.9)\n",
      "Requirement already satisfied: urllib3<1.25,>=1.21.1 in c:\\users\\103305\\appdata\\local\\continuum\\anaconda3\\lib\\site-packages (from requests->geocoder) (1.24.1)\n",
      "Requirement already satisfied: idna<2.9,>=2.5 in c:\\users\\103305\\appdata\\local\\continuum\\anaconda3\\lib\\site-packages (from requests->geocoder) (2.8)\n",
      "Requirement already satisfied: decorator in c:\\users\\103305\\appdata\\local\\continuum\\anaconda3\\lib\\site-packages (from ratelim->geocoder) (4.4.0)\n",
      "Installing collected packages: ratelim, geocoder\n",
      "Successfully installed geocoder-1.38.1 ratelim-0.1.6\n",
      "Collecting geopy\n",
      "  Downloading https://files.pythonhosted.org/packages/53/fc/3d1b47e8e82ea12c25203929efb1b964918a77067a874b2c7631e2ec35ec/geopy-1.21.0-py2.py3-none-any.whl (104kB)\n",
      "Collecting geographiclib<2,>=1.49 (from geopy)\n",
      "  Downloading https://files.pythonhosted.org/packages/8b/62/26ec95a98ba64299163199e95ad1b0e34ad3f4e176e221c40245f211e425/geographiclib-1.50-py3-none-any.whl\n",
      "Installing collected packages: geographiclib, geopy\n",
      "Successfully installed geographiclib-1.50 geopy-1.21.0\n"
     ]
    }
   ],
   "source": [
    "import numpy as np\n",
    "\n",
    "import requests\n",
    "from bs4 import BeautifulSoup\n",
    "\n",
    "import requests\n",
    "from pandas.io.json import json_normalize\n",
    "import matplotlib.cm as cm\n",
    "import matplotlib.colors as colors\n",
    "\n",
    "from sklearn.cluster import KMeans\n",
    "\n",
    "!pip install folium\n",
    "import folium\n",
    "\n",
    "!pip install geocoder \n",
    "import geocoder\n",
    "\n",
    "!pip install geopy\n",
    "from geopy.geocoders import Nominatim"
   ]
  },
  {
   "cell_type": "markdown",
   "metadata": {},
   "source": [
    "# Get Requests  and Preprocess the Data"
   ]
  },
  {
   "cell_type": "code",
   "execution_count": 15,
   "metadata": {},
   "outputs": [],
   "source": [
    "res = requests.get(\"https://en.wikipedia.org/wiki/List_of_postal_codes_of_Canada:_M\")\n",
    "soup = BeautifulSoup(res.content,'html')\n",
    "table = soup.find_all('table')[0] \n",
    "df_ = pd.read_html(str(table))\n",
    "df = df_[0]\n",
    "\n",
    "df.rename({\"Postcode\": \"PostalCode\"}, axis=1, inplace=True)\n",
    "df = df[df[\"Borough\"] != \"Not assigned\"]\n",
    "df[df[\"Neighbourhood\"] == \"Not assigned\"]\n",
    "df[df[\"Borough\"] == \"Queen's Park\"]\n",
    "df_agg = df.groupby([\"PostalCode\", \"Borough\"]).agg({'Neighbourhood': lambda x: ', '.join(x)}).reset_index()\n",
    "df[df[\"PostalCode\"] == \"M5B\"]\n",
    "df_agg[df_agg[\"PostalCode\"] == \"M5B\"]\n",
    "df_geo = pd.read_csv(\"http://cocl.us/Geospatial_data\")\n",
    "df_geo.rename({\"Postal Code\": \"PostalCode\"}, axis=1, inplace=True)\n",
    "df_agg_geo = pd.merge(df_agg,df_geo,on=\"PostalCode\",how=\"left\")\n",
    "\n",
    "\n"
   ]
  },
  {
   "cell_type": "code",
   "execution_count": 16,
   "metadata": {},
   "outputs": [
    {
     "data": {
      "text/html": [
       "<div>\n",
       "<style scoped>\n",
       "    .dataframe tbody tr th:only-of-type {\n",
       "        vertical-align: middle;\n",
       "    }\n",
       "\n",
       "    .dataframe tbody tr th {\n",
       "        vertical-align: top;\n",
       "    }\n",
       "\n",
       "    .dataframe thead th {\n",
       "        text-align: right;\n",
       "    }\n",
       "</style>\n",
       "<table border=\"1\" class=\"dataframe\">\n",
       "  <thead>\n",
       "    <tr style=\"text-align: right;\">\n",
       "      <th></th>\n",
       "      <th>PostalCode</th>\n",
       "      <th>Borough</th>\n",
       "      <th>Neighbourhood</th>\n",
       "    </tr>\n",
       "  </thead>\n",
       "  <tbody>\n",
       "    <tr>\n",
       "      <th>2</th>\n",
       "      <td>M3A</td>\n",
       "      <td>North York</td>\n",
       "      <td>Parkwoods</td>\n",
       "    </tr>\n",
       "    <tr>\n",
       "      <th>3</th>\n",
       "      <td>M4A</td>\n",
       "      <td>North York</td>\n",
       "      <td>Victoria Village</td>\n",
       "    </tr>\n",
       "    <tr>\n",
       "      <th>4</th>\n",
       "      <td>M5A</td>\n",
       "      <td>Downtown Toronto</td>\n",
       "      <td>Harbourfront</td>\n",
       "    </tr>\n",
       "    <tr>\n",
       "      <th>5</th>\n",
       "      <td>M6A</td>\n",
       "      <td>North York</td>\n",
       "      <td>Lawrence Heights</td>\n",
       "    </tr>\n",
       "    <tr>\n",
       "      <th>6</th>\n",
       "      <td>M6A</td>\n",
       "      <td>North York</td>\n",
       "      <td>Lawrence Manor</td>\n",
       "    </tr>\n",
       "  </tbody>\n",
       "</table>\n",
       "</div>"
      ],
      "text/plain": [
       "  PostalCode           Borough     Neighbourhood\n",
       "2        M3A        North York         Parkwoods\n",
       "3        M4A        North York  Victoria Village\n",
       "4        M5A  Downtown Toronto      Harbourfront\n",
       "5        M6A        North York  Lawrence Heights\n",
       "6        M6A        North York    Lawrence Manor"
      ]
     },
     "execution_count": 16,
     "metadata": {},
     "output_type": "execute_result"
    }
   ],
   "source": [
    "df.head()"
   ]
  },
  {
   "cell_type": "code",
   "execution_count": 17,
   "metadata": {},
   "outputs": [
    {
     "data": {
      "text/html": [
       "<div>\n",
       "<style scoped>\n",
       "    .dataframe tbody tr th:only-of-type {\n",
       "        vertical-align: middle;\n",
       "    }\n",
       "\n",
       "    .dataframe tbody tr th {\n",
       "        vertical-align: top;\n",
       "    }\n",
       "\n",
       "    .dataframe thead th {\n",
       "        text-align: right;\n",
       "    }\n",
       "</style>\n",
       "<table border=\"1\" class=\"dataframe\">\n",
       "  <thead>\n",
       "    <tr style=\"text-align: right;\">\n",
       "      <th></th>\n",
       "      <th>PostalCode</th>\n",
       "      <th>Borough</th>\n",
       "      <th>Neighbourhood</th>\n",
       "      <th>Latitude</th>\n",
       "      <th>Longitude</th>\n",
       "    </tr>\n",
       "  </thead>\n",
       "  <tbody>\n",
       "    <tr>\n",
       "      <th>0</th>\n",
       "      <td>M1B</td>\n",
       "      <td>Scarborough</td>\n",
       "      <td>Rouge, Malvern</td>\n",
       "      <td>43.806686</td>\n",
       "      <td>-79.194353</td>\n",
       "    </tr>\n",
       "    <tr>\n",
       "      <th>1</th>\n",
       "      <td>M1C</td>\n",
       "      <td>Scarborough</td>\n",
       "      <td>Highland Creek, Rouge Hill, Port Union</td>\n",
       "      <td>43.784535</td>\n",
       "      <td>-79.160497</td>\n",
       "    </tr>\n",
       "    <tr>\n",
       "      <th>2</th>\n",
       "      <td>M1E</td>\n",
       "      <td>Scarborough</td>\n",
       "      <td>Guildwood, Morningside, West Hill</td>\n",
       "      <td>43.763573</td>\n",
       "      <td>-79.188711</td>\n",
       "    </tr>\n",
       "    <tr>\n",
       "      <th>3</th>\n",
       "      <td>M1G</td>\n",
       "      <td>Scarborough</td>\n",
       "      <td>Woburn</td>\n",
       "      <td>43.770992</td>\n",
       "      <td>-79.216917</td>\n",
       "    </tr>\n",
       "    <tr>\n",
       "      <th>4</th>\n",
       "      <td>M1H</td>\n",
       "      <td>Scarborough</td>\n",
       "      <td>Cedarbrae</td>\n",
       "      <td>43.773136</td>\n",
       "      <td>-79.239476</td>\n",
       "    </tr>\n",
       "  </tbody>\n",
       "</table>\n",
       "</div>"
      ],
      "text/plain": [
       "  PostalCode      Borough                           Neighbourhood   Latitude  \\\n",
       "0        M1B  Scarborough                          Rouge, Malvern  43.806686   \n",
       "1        M1C  Scarborough  Highland Creek, Rouge Hill, Port Union  43.784535   \n",
       "2        M1E  Scarborough       Guildwood, Morningside, West Hill  43.763573   \n",
       "3        M1G  Scarborough                                  Woburn  43.770992   \n",
       "4        M1H  Scarborough                               Cedarbrae  43.773136   \n",
       "\n",
       "   Longitude  \n",
       "0 -79.194353  \n",
       "1 -79.160497  \n",
       "2 -79.188711  \n",
       "3 -79.216917  \n",
       "4 -79.239476  "
      ]
     },
     "execution_count": 17,
     "metadata": {},
     "output_type": "execute_result"
    }
   ],
   "source": [
    "df_agg_geo.head()"
   ]
  },
  {
   "cell_type": "markdown",
   "metadata": {},
   "source": [
    "# Getting Coordinates of Toronto"
   ]
  },
  {
   "cell_type": "code",
   "execution_count": 18,
   "metadata": {},
   "outputs": [
    {
     "name": "stderr",
     "output_type": "stream",
     "text": [
      "C:\\Users\\103305\\AppData\\Local\\Continuum\\anaconda3\\lib\\site-packages\\ipykernel_launcher.py:2: DeprecationWarning: Using Nominatim with the default \"geopy/1.21.0\" `user_agent` is strongly discouraged, as it violates Nominatim's ToS https://operations.osmfoundation.org/policies/nominatim/ and may possibly cause 403 and 429 HTTP errors. Please specify a custom `user_agent` with `Nominatim(user_agent=\"my-application\")` or by overriding the default `user_agent`: `geopy.geocoders.options.default_user_agent = \"my-application\"`. In geopy 2.0 this will become an exception.\n",
      "  \n"
     ]
    },
    {
     "name": "stdout",
     "output_type": "stream",
     "text": [
      "The geograpical coordinate of the City of Toronto are 43.653963, -79.387207.\n"
     ]
    }
   ],
   "source": [
    "address = 'Toronto, Canada'\n",
    "geolocator = Nominatim()\n",
    "location = geolocator.geocode(address)\n",
    "latitude = location.latitude\n",
    "longitude = location.longitude\n",
    "print('The geograpical coordinate of the City of Toronto are {}, {}.'.format(latitude, longitude))"
   ]
  },
  {
   "cell_type": "code",
   "execution_count": 19,
   "metadata": {},
   "outputs": [],
   "source": [
    "df_toronto = df_agg_geo[df_agg_geo['Borough'].str.contains('Toronto')].reset_index(drop=True)"
   ]
  },
  {
   "cell_type": "markdown",
   "metadata": {},
   "source": [
    "# Clustering and Folium"
   ]
  },
  {
   "cell_type": "code",
   "execution_count": 20,
   "metadata": {},
   "outputs": [
    {
     "data": {
      "text/html": [
       "<div style=\"width:100%;\"><div style=\"position:relative;width:100%;height:0;padding-bottom:60%;\"><iframe src=\"data:text/html;charset=utf-8;base64,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\" style=\"position:absolute;width:100%;height:100%;left:0;top:0;border:none !important;\" allowfullscreen webkitallowfullscreen mozallowfullscreen></iframe></div></div>"
      ],
      "text/plain": [
       "<folium.folium.Map at 0x1f2b5cded30>"
      ]
     },
     "execution_count": 20,
     "metadata": {},
     "output_type": "execute_result"
    }
   ],
   "source": [
    "toronto_map = folium.Map(location=[latitude, longitude], zoom_start=12)\n",
    "\n",
    "X = df_toronto['Latitude']\n",
    "Y = df_toronto['Longitude']\n",
    "Z = np.stack((X, Y), axis=1)\n",
    "\n",
    "kmeans = KMeans(n_clusters=4, random_state=0).fit(Z)\n",
    "\n",
    "clusters = kmeans.labels_\n",
    "colors = ['red', 'green', 'blue', 'yellow']\n",
    "df_toronto['Cluster'] = clusters\n",
    "\n",
    "for latitude, longitude, borough, cluster in zip(df_toronto['Latitude'], \n",
    "                                                 df_toronto['Longitude'], \n",
    "                                                 df_toronto['Borough'], \n",
    "                                                 df_toronto['Cluster']):\n",
    "    label = folium.Popup(borough, parse_html=True)\n",
    "    folium.CircleMarker(\n",
    "        [latitude, longitude],\n",
    "        radius=5,\n",
    "        popup=label,\n",
    "        color='black',\n",
    "        fill=True,\n",
    "        fill_color=colors[cluster],\n",
    "        fill_opacity=0.7).add_to(toronto_map)  \n",
    "\n",
    "toronto_map"
   ]
  },
  {
   "cell_type": "code",
   "execution_count": null,
   "metadata": {},
   "outputs": [],
   "source": []
  }
 ],
 "metadata": {
  "kernelspec": {
   "display_name": "Python 3",
   "language": "python",
   "name": "python3"
  },
  "language_info": {
   "codemirror_mode": {
    "name": "ipython",
    "version": 3
   },
   "file_extension": ".py",
   "mimetype": "text/x-python",
   "name": "python",
   "nbconvert_exporter": "python",
   "pygments_lexer": "ipython3",
   "version": "3.7.3"
  }
 },
 "nbformat": 4,
 "nbformat_minor": 2
}
